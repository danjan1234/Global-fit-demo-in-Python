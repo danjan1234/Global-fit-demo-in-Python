{
 "cells": [
  {
   "cell_type": "markdown",
   "metadata": {},
   "source": [
    "# An example that demonstrates global fitting of multiple data sets using shared parameters"
   ]
  },
  {
   "cell_type": "markdown",
   "metadata": {},
   "source": [
    "### Two functions are demonstrated: scipy.optimize.curve_fit and scipy.optimize.leastsq"
   ]
  },
  {
   "cell_type": "code",
   "execution_count": 83,
   "metadata": {
    "scrolled": true
   },
   "outputs": [
    {
     "name": "stdout",
     "output_type": "stream",
     "text": [
      "Once deleted, variables cannot be recovered. Proceed (y/[n])? y\n"
     ]
    }
   ],
   "source": [
    "%reset "
   ]
  },
  {
   "cell_type": "code",
   "execution_count": 84,
   "metadata": {
    "collapsed": true
   },
   "outputs": [],
   "source": [
    "import numpy as np\n",
    "import matplotlib.pyplot as plt \n",
    "from scipy.optimize import curve_fit, leastsq\n",
    "from functools import partial\n",
    "%matplotlib inline"
   ]
  },
  {
   "cell_type": "code",
   "execution_count": 85,
   "metadata": {
    "collapsed": true
   },
   "outputs": [],
   "source": [
    "# Define the function for signal generation\n",
    "def func(x, a, b, c):\n",
    "    return a * np.exp(-b * x) + c"
   ]
  },
  {
   "cell_type": "code",
   "execution_count": 86,
   "metadata": {},
   "outputs": [
    {
     "data": {
      "text/plain": [
       "<matplotlib.collections.PathCollection at 0x8c99898>"
      ]
     },
     "execution_count": 86,
     "metadata": {},
     "output_type": "execute_result"
    },
    {
     "data": {
      "image/png": "[encoded data removed]",
      "text/plain": [
       "<matplotlib.figure.Figure at 0x88f4e10>"
      ]
     },
     "metadata": {},
     "output_type": "display_data"
    }
   ],
   "source": [
    "# Generate the data. There are two sets: x0 vs y0 and x1 vs y1. Note they are of different length\n",
    "# Parameter a and b are different for each data set; parameter c is a shared variable\n",
    "a0, b0, a1, b1, c = 2, 3, 5, 1, 6          # Parameters for generating the data\n",
    "noise_level0, noise_level1 = 0.07, 0.05    # Gaussian noise level\n",
    "x0 = np.linspace(0, 4, 50)\n",
    "x1 = np.linspace(1, 7, 120)\n",
    "y0 = func(x0, a0, b0, c) + noise_level0 * np.random.randn(len(x0))\n",
    "y1 = func(x1, a1, b1, c) + noise_level1 * np.random.randn(len(x1))\n",
    "\n",
    "_, ax = plt.subplots(1, 2)\n",
    "ax[0].scatter(x0, y0)\n",
    "ax[1].scatter(x1, y1)"
   ]
  },
  {
   "cell_type": "code",
   "execution_count": 87,
   "metadata": {},
   "outputs": [
    {
     "name": "stdout",
     "output_type": "stream",
     "text": [
      "Original parameters: [a0, b0, a1, b1, c] = (2, 3, 5, 1, 6)\n",
      "Fit results: [a0, b0, a1, b1, c] = [ 1.94187812  2.85942514  4.99273242  1.00771362  6.00428152]\n"
     ]
    }
   ],
   "source": [
    "# Option 1: using curve_fit\n",
    "# Define the fit function\n",
    "def func_fit(x, a0, b0, a1, b1, c, n):\n",
    "    yfit = np.empty(x.shape)\n",
    "    yfit[:n] = func(x[:n], a0, b0, c)\n",
    "    yfit[n:] = func(x[n:], a1, b1, c)\n",
    "    return yfit\n",
    "\n",
    "# Peform the fit\n",
    "xdata = np.concatenate((x0, x1))\n",
    "ydata = np.concatenate((y0, y1))\n",
    "popt, pcov = curve_fit(partial(func_fit, n=len(x0)), xdata, ydata)\n",
    "\n",
    "# Check the fit resutls\n",
    "print(\"Original parameters: [a0, b0, a1, b1, c] = {}\".format((a0, b0, a1, b1, c)))\n",
    "print(\"Fit results: [a0, b0, a1, b1, c] = {}\".format(popt))"
   ]
  },
  {
   "cell_type": "code",
   "execution_count": 88,
   "metadata": {},
   "outputs": [
    {
     "name": "stdout",
     "output_type": "stream",
     "text": [
      "Original parameters: [a0, b0, a1, b1, c] = (2, 3, 5, 1, 6)\n",
      "Fit results: [a0, b0, a1, b1, c] = (array([ 1.94187812,  2.85942514,  4.99273242,  1.00771362,  6.00428152]), 1)\n"
     ]
    }
   ],
   "source": [
    "# Option 2: using leastsq\n",
    "# Define the fit function\n",
    "def leastsq_function(params, *args):\n",
    "    a0, b0, a1, b1, c = params\n",
    "    x, y, n = args\n",
    "    yfit = np.empty(x.shape)\n",
    "    yfit[:n] = func(x[:n], a0, b0, c)\n",
    "    yfit[n:] = func(x[n:], a1, b1, c)\n",
    "\n",
    "    return y - yfit\n",
    "\n",
    "# Peform the fit\n",
    "params0 = [1, 1, 1, 1, 1]\n",
    "args = (xdata, ydata, len(x0))\n",
    "result = leastsq(leastsq_function, params0, args=args)\n",
    "\n",
    "# Check the fit resutls\n",
    "print(\"Original parameters: [a0, b0, a1, b1, c] = {}\".format((a0, b0, a1, b1, c)))\n",
    "print(\"Fit results: [a0, b0, a1, b1, c] = {}\".format(result))"
   ]
  }
 ],
 "metadata": {
  "kernelspec": {
   "display_name": "Python 3",
   "language": "python",
   "name": "python3"
  },
  "language_info": {
   "codemirror_mode": {
    "name": "ipython",
    "version": 3
   },
   "file_extension": ".py",
   "mimetype": "text/x-python",
   "name": "python",
   "nbconvert_exporter": "python",
   "pygments_lexer": "ipython3",
   "version": "3.6.1"
  }
 },
 "nbformat": 4,
 "nbformat_minor": 2
}
